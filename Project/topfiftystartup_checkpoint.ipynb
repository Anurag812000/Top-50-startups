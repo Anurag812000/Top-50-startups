{
 "cells": [
  {
   "cell_type": "markdown",
   "metadata": {
    "id": "q1pDDEIyMKMG"
   },
   "source": [
    "# Top 50 startups\n",
    "\n",
    "Startup is the first phase of the company, it is founded or lead by entrepreneurs who develop some product or service according to need of society. Their are many things we need for a proper Startup like:\n",
    "* Business plan / Idea\n",
    "* Location\n",
    "* Raw materials\n",
    "* Market knowledge\n",
    "* Right people\n",
    "\n",
    "But one of the most importing things is funding for proper growth and expansion of the startup. We need to look investors , and the investors look for business plan and the future of the startup and the field or tech on which startup is focusing on. <br>\n",
    "Here we have dataset from [Kaggle](https://www.kaggle.com/sudalairajkumar/indian-startup-funding) which has the info regarding different startups, their funding and investors. We explore it to know :\n",
    "* Which are some biggest funded startups?\n",
    "* What are the most popular industries for startups?\n",
    "* Who are the biggest investors?\n",
    "* Which Location is preffered for startups? \n",
    "\n"
   ]
  },
  {
   "cell_type": "code",
   "execution_count": 1,
   "metadata": {
    "colab": {
     "base_uri": "https://localhost:8080/",
     "height": 73,
     "resources": {
      "http://localhost:8080/nbextensions/google.colab/files.js": {
       "data": "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",
       "headers": [
        [
         "content-type",
         "application/javascript"
        ]
       ],
       "ok": true,
       "status": 200,
       "status_text": ""
      }
     }
    },
    "id": "8w-K1h2IM0gX",
    "outputId": "d4bd0bba-57f5-4a06-8e2e-33dfd79b20e3"
   },
   "outputs": [
    {
     "data": {
      "text/html": [
       "\n",
       "     <input type=\"file\" id=\"files-d67095e3-b403-4a87-abd2-60e9527584e5\" name=\"files[]\" multiple disabled\n",
       "        style=\"border:none\" />\n",
       "     <output id=\"result-d67095e3-b403-4a87-abd2-60e9527584e5\">\n",
       "      Upload widget is only available when the cell has been executed in the\n",
       "      current browser session. Please rerun this cell to enable.\n",
       "      </output>\n",
       "      <script src=\"/nbextensions/google.colab/files.js\"></script> "
      ],
      "text/plain": [
       "<IPython.core.display.HTML object>"
      ]
     },
     "metadata": {},
     "output_type": "display_data"
    },
    {
     "name": "stdout",
     "output_type": "stream",
     "text": [
      "Saving startup_funding.csv to startup_funding (1).csv\n"
     ]
    }
   ],
   "source": [
    "from google.colab import files\n",
    "  \n",
    "  \n",
    "uploaded = files.upload()"
   ]
  },
  {
   "cell_type": "code",
   "execution_count": 4,
   "metadata": {
    "id": "bWx29i9BMKMJ"
   },
   "outputs": [],
   "source": [
    "# importing libs\n",
    "import numpy as np\n",
    "import pandas as pd \n",
    "import matplotlib.pyplot as plt\n",
    "import re\n",
    "import seaborn as sns\n",
    "from wordcloud import WordCloud\n",
    "import datetime as dt\n",
    "import squarify"
   ]
  },
  {
   "cell_type": "code",
   "execution_count": 3,
   "metadata": {
    "colab": {
     "base_uri": "https://localhost:8080/"
    },
    "id": "V-Zs0OqYPLJO",
    "outputId": "440652b7-b732-43ec-b991-a271f5032eb8"
   },
   "outputs": [
    {
     "name": "stdout",
     "output_type": "stream",
     "text": [
      "Collecting squarify\n",
      "  Downloading squarify-0.4.3-py3-none-any.whl (4.3 kB)\n",
      "Installing collected packages: squarify\n",
      "Successfully installed squarify-0.4.3\n"
     ]
    }
   ],
   "source": [
    "!pip install squarify\n"
   ]
  },
  {
   "cell_type": "code",
   "execution_count": 6,
   "metadata": {
    "id": "hZDVCsdPMKML"
   },
   "outputs": [],
   "source": [
    "# reading the dataset\n",
    "data=pd.read_csv('startup_funding.csv',encoding='utf-8')"
   ]
  },
  {
   "cell_type": "code",
   "execution_count": 7,
   "metadata": {
    "colab": {
     "base_uri": "https://localhost:8080/",
     "height": 363
    },
    "id": "fpIqUwCFMKMM",
    "outputId": "7fcfb687-1105-4030-8417-1a64f97c4af6"
   },
   "outputs": [
    {
     "data": {
      "text/html": [
       "<div>\n",
       "<style scoped>\n",
       "    .dataframe tbody tr th:only-of-type {\n",
       "        vertical-align: middle;\n",
       "    }\n",
       "\n",
       "    .dataframe tbody tr th {\n",
       "        vertical-align: top;\n",
       "    }\n",
       "\n",
       "    .dataframe thead th {\n",
       "        text-align: right;\n",
       "    }\n",
       "</style>\n",
       "<table border=\"1\" class=\"dataframe\">\n",
       "  <thead>\n",
       "    <tr style=\"text-align: right;\">\n",
       "      <th></th>\n",
       "      <th>Sr No</th>\n",
       "      <th>Date dd/mm/yyyy</th>\n",
       "      <th>Startup Name</th>\n",
       "      <th>Industry Vertical</th>\n",
       "      <th>SubVertical</th>\n",
       "      <th>City  Location</th>\n",
       "      <th>Investors Name</th>\n",
       "      <th>InvestmentnType</th>\n",
       "      <th>Amount in USD</th>\n",
       "      <th>Remarks</th>\n",
       "    </tr>\n",
       "  </thead>\n",
       "  <tbody>\n",
       "    <tr>\n",
       "      <th>0</th>\n",
       "      <td>1</td>\n",
       "      <td>09/01/2020</td>\n",
       "      <td>BYJU’S</td>\n",
       "      <td>E-Tech</td>\n",
       "      <td>E-learning</td>\n",
       "      <td>Bengaluru</td>\n",
       "      <td>Tiger Global Management</td>\n",
       "      <td>Private Equity Round</td>\n",
       "      <td>20,00,00,000</td>\n",
       "      <td>NaN</td>\n",
       "    </tr>\n",
       "    <tr>\n",
       "      <th>1</th>\n",
       "      <td>2</td>\n",
       "      <td>13/01/2020</td>\n",
       "      <td>Shuttl</td>\n",
       "      <td>Transportation</td>\n",
       "      <td>App based shuttle service</td>\n",
       "      <td>Gurgaon</td>\n",
       "      <td>Susquehanna Growth Equity</td>\n",
       "      <td>Series C</td>\n",
       "      <td>80,48,394</td>\n",
       "      <td>NaN</td>\n",
       "    </tr>\n",
       "    <tr>\n",
       "      <th>2</th>\n",
       "      <td>3</td>\n",
       "      <td>09/01/2020</td>\n",
       "      <td>Mamaearth</td>\n",
       "      <td>E-commerce</td>\n",
       "      <td>Retailer of baby and toddler products</td>\n",
       "      <td>Bengaluru</td>\n",
       "      <td>Sequoia Capital India</td>\n",
       "      <td>Series B</td>\n",
       "      <td>1,83,58,860</td>\n",
       "      <td>NaN</td>\n",
       "    </tr>\n",
       "    <tr>\n",
       "      <th>3</th>\n",
       "      <td>4</td>\n",
       "      <td>02/01/2020</td>\n",
       "      <td>https://www.wealthbucket.in/</td>\n",
       "      <td>FinTech</td>\n",
       "      <td>Online Investment</td>\n",
       "      <td>New Delhi</td>\n",
       "      <td>Vinod Khatumal</td>\n",
       "      <td>Pre-series A</td>\n",
       "      <td>30,00,000</td>\n",
       "      <td>NaN</td>\n",
       "    </tr>\n",
       "    <tr>\n",
       "      <th>4</th>\n",
       "      <td>5</td>\n",
       "      <td>02/01/2020</td>\n",
       "      <td>Fashor</td>\n",
       "      <td>Fashion and Apparel</td>\n",
       "      <td>Embroiled Clothes For Women</td>\n",
       "      <td>Mumbai</td>\n",
       "      <td>Sprout Venture Partners</td>\n",
       "      <td>Seed Round</td>\n",
       "      <td>18,00,000</td>\n",
       "      <td>NaN</td>\n",
       "    </tr>\n",
       "    <tr>\n",
       "      <th>5</th>\n",
       "      <td>6</td>\n",
       "      <td>13/01/2020</td>\n",
       "      <td>Pando</td>\n",
       "      <td>Logistics</td>\n",
       "      <td>Open-market, freight management platform</td>\n",
       "      <td>Chennai</td>\n",
       "      <td>Chiratae Ventures</td>\n",
       "      <td>Series A</td>\n",
       "      <td>90,00,000</td>\n",
       "      <td>NaN</td>\n",
       "    </tr>\n",
       "    <tr>\n",
       "      <th>6</th>\n",
       "      <td>7</td>\n",
       "      <td>10/01/2020</td>\n",
       "      <td>Zomato</td>\n",
       "      <td>Hospitality</td>\n",
       "      <td>Online Food Delivery Platform</td>\n",
       "      <td>Gurgaon</td>\n",
       "      <td>Ant Financial</td>\n",
       "      <td>Private Equity Round</td>\n",
       "      <td>15,00,00,000</td>\n",
       "      <td>NaN</td>\n",
       "    </tr>\n",
       "    <tr>\n",
       "      <th>7</th>\n",
       "      <td>8</td>\n",
       "      <td>12/12/2019</td>\n",
       "      <td>Ecozen</td>\n",
       "      <td>Technology</td>\n",
       "      <td>Agritech</td>\n",
       "      <td>Pune</td>\n",
       "      <td>Sathguru Catalyzer Advisors</td>\n",
       "      <td>Series A</td>\n",
       "      <td>60,00,000</td>\n",
       "      <td>NaN</td>\n",
       "    </tr>\n",
       "    <tr>\n",
       "      <th>8</th>\n",
       "      <td>9</td>\n",
       "      <td>06/12/2019</td>\n",
       "      <td>CarDekho</td>\n",
       "      <td>E-Commerce</td>\n",
       "      <td>Automobile</td>\n",
       "      <td>Gurgaon</td>\n",
       "      <td>Ping An Global Voyager Fund</td>\n",
       "      <td>Series D</td>\n",
       "      <td>7,00,00,000</td>\n",
       "      <td>NaN</td>\n",
       "    </tr>\n",
       "    <tr>\n",
       "      <th>9</th>\n",
       "      <td>10</td>\n",
       "      <td>03/12/2019</td>\n",
       "      <td>Dhruva Space</td>\n",
       "      <td>Aerospace</td>\n",
       "      <td>Satellite Communication</td>\n",
       "      <td>Bengaluru</td>\n",
       "      <td>Mumbai Angels, Ravikanth Reddy</td>\n",
       "      <td>Seed</td>\n",
       "      <td>5,00,00,000</td>\n",
       "      <td>NaN</td>\n",
       "    </tr>\n",
       "  </tbody>\n",
       "</table>\n",
       "</div>"
      ],
      "text/plain": [
       "   Sr No Date dd/mm/yyyy  ... Amount in USD Remarks\n",
       "0      1      09/01/2020  ...  20,00,00,000     NaN\n",
       "1      2      13/01/2020  ...     80,48,394     NaN\n",
       "2      3      09/01/2020  ...   1,83,58,860     NaN\n",
       "3      4      02/01/2020  ...     30,00,000     NaN\n",
       "4      5      02/01/2020  ...     18,00,000     NaN\n",
       "5      6      13/01/2020  ...     90,00,000     NaN\n",
       "6      7      10/01/2020  ...  15,00,00,000     NaN\n",
       "7      8      12/12/2019  ...     60,00,000     NaN\n",
       "8      9      06/12/2019  ...   7,00,00,000     NaN\n",
       "9     10      03/12/2019  ...   5,00,00,000     NaN\n",
       "\n",
       "[10 rows x 10 columns]"
      ]
     },
     "execution_count": 7,
     "metadata": {},
     "output_type": "execute_result"
    }
   ],
   "source": [
    "data.head(10)"
   ]
  },
  {
   "cell_type": "markdown",
   "metadata": {
    "id": "frKVzOdWMKMN"
   },
   "source": [
    "### Data exploring "
   ]
  },
  {
   "cell_type": "code",
   "execution_count": 8,
   "metadata": {
    "colab": {
     "base_uri": "https://localhost:8080/"
    },
    "id": "rYM27_YIMKMN",
    "outputId": "c9091081-60ec-4b6b-c9c0-5d52e3ba18e8"
   },
   "outputs": [
    {
     "name": "stdout",
     "output_type": "stream",
     "text": [
      "<class 'pandas.core.frame.DataFrame'>\n",
      "RangeIndex: 3044 entries, 0 to 3043\n",
      "Data columns (total 10 columns):\n",
      " #   Column             Non-Null Count  Dtype \n",
      "---  ------             --------------  ----- \n",
      " 0   Sr No              3044 non-null   int64 \n",
      " 1   Date dd/mm/yyyy    3044 non-null   object\n",
      " 2   Startup Name       3044 non-null   object\n",
      " 3   Industry Vertical  2873 non-null   object\n",
      " 4   SubVertical        2108 non-null   object\n",
      " 5   City  Location     2864 non-null   object\n",
      " 6   Investors Name     3020 non-null   object\n",
      " 7   InvestmentnType    3040 non-null   object\n",
      " 8   Amount in USD      2084 non-null   object\n",
      " 9   Remarks            419 non-null    object\n",
      "dtypes: int64(1), object(9)\n",
      "memory usage: 237.9+ KB\n"
     ]
    }
   ],
   "source": [
    "data.info()"
   ]
  },
  {
   "cell_type": "markdown",
   "metadata": {
    "id": "5ZM4RscMMKMN"
   },
   "source": [
    "It can be seen from above that some of attributes have less value than others, it shows that their are some missing values. So,lets visualize which attributes have null value."
   ]
  },
  {
   "cell_type": "code",
   "execution_count": 9,
   "metadata": {
    "colab": {
     "base_uri": "https://localhost:8080/",
     "height": 399
    },
    "id": "m7QABA1eMKMO",
    "outputId": "6ea3a02d-ba45-43a0-ea29-5230e0ad2338"
   },
   "outputs": [
    {
     "data": {
      "image/png": "[encoded data removed]",
      "text/plain": [
       "<Figure size 720x360 with 1 Axes>"
      ]
     },
     "metadata": {
      "needs_background": "light"
     },
     "output_type": "display_data"
    }
   ],
   "source": [
    "#visualizing the null values for each attribute\n",
    "plt.figure(figsize=(10,5)) \n",
    "sns.heatmap(data.isnull(),cmap='magma',yticklabels=False,cbar=False)\n",
    "plt.show()"
   ]
  },
  {
   "cell_type": "markdown",
   "metadata": {
    "id": "_gCECFYyMKMO"
   },
   "source": [
    "Their are many missing values in the Revenue attribute and in `Remarks` attribute. Inorder to further process , lets see what are some non-null value in it."
   ]
  },
  {
   "cell_type": "code",
   "execution_count": 10,
   "metadata": {
    "colab": {
     "base_uri": "https://localhost:8080/"
    },
    "id": "hU-NqKlvMKMO",
    "outputId": "bd9ac5d4-4315-44d3-ad10-c1401c37cfdc"
   },
   "outputs": [
    {
     "data": {
      "text/plain": [
       "array([nan, 'Pre-Series A', 'Series B', 'Series A', 'Series C',\n",
       "       'Strategic Funding', 'Yet to Launch platform',\n",
       "       'Series B (includes Debt financing)',\n",
       "       'part of $40M Series B round',\n",
       "       'Additional investment from parent company', 'pre-Series A',\n",
       "       'Strategic Investment', 'Additional Funding', 'Yet to Launch',\n",
       "       'Bridge funding', 'Funding happened in Sept 2015',\n",
       "       'Pre-Series A Bridge', '2nd seed funding',\n",
       "       'Series F ( More Details Here)', 'Late Stage',\n",
       "       'Pre-Series A bridge round', 'Pre-Series A Bridge round',\n",
       "       'Bridge Round', 'Strategic Funding (Series C)', 'Bridge Funding',\n",
       "       'Strategic Investment (Majority Stake)',\n",
       "       'Part of Series A raised in June 2015', 'Series D',\n",
       "       'Part of $12M Series B funding', 'thru Accelerator',\n",
       "       'late Stage (part of $500M funding rnd)',\n",
       "       'Late Stage (Alibaba @ 40% equity)', 'Super angel round',\n",
       "       'Late Stage Round 7th (More details)', 'pre Series-A',\n",
       "       'Pre Series-A', 'QPrize Contest Winners', 'pre series A',\n",
       "       'pre-series A', 'Personal Investment', 'Series C\\\\\\\\n(More here)',\n",
       "       '\\\\\\\\xc2\\\\\\\\xa0Series B', '\\\\\\\\xc2\\\\\\\\xa0Late Stage',\n",
       "       '\\\\\\\\xc2\\\\\\\\xa0Series A', 'Follow on Funding', 'No confirmation',\n",
       "       'Bridge round', 'Late Stage, 10th Round More here',\n",
       "       'additional funding round', 'Bridge Round Pre-Series B',\n",
       "       'Pre-Series Bridge', '1% stake', 'Series B Interim Funding',\n",
       "       'Series G (Check prev funding details here)',\n",
       "       'Series D ( In Feb it was announced they raised 26M, but it is 36M, so added here)',\n",
       "       'Series E (Updated from 315M to 400M after Press Release)',\n",
       "       'Series E', 'More details', 'Minority stake, Strategic',\n",
       "       'Incremental Capital', 'Series B (More Here)',\n",
       "       'At the 10 minute million event', 'For mobile app',\n",
       "       'Strategic Investment (25% stake)', 'Promoter Commitment',\n",
       "       'Grant + Seed funding', 'Valuation at $4M', '3rd Round',\n",
       "       'More Details', 'To fund edu startups', 'Majority Stake',\n",
       "       'Govt backed VC Fund', 'Strategic Funding, Minority stake'],\n",
       "      dtype=object)"
      ]
     },
     "execution_count": 10,
     "metadata": {},
     "output_type": "execute_result"
    }
   ],
   "source": [
    "#getting the unique value in Remark attribute.\n",
    "data['Remarks'].unique()"
   ]
  },
  {
   "cell_type": "markdown",
   "metadata": {
    "id": "dh3Zlt4RMKMP"
   },
   "source": [
    "### Data cleaning\n",
    "Their are some strange words present in the dataset like: `\\xc2` ,`\\xa0` etc.. If we  search for it then we found those are the [unicode](https://www.codetable.net/hex/a0) symbols. <br>\n",
    "Ex: \"\\xa0\" represents 'no-break space'"
   ]
  },
  {
   "cell_type": "code",
   "execution_count": null,
   "metadata": {
    "id": "mVN5_oHFMKMP"
   },
   "outputs": [],
   "source": [
    "# checking other attributes have those unicode symbol or not\n",
    "# i am specifying some the row from 150-200 for showing\n",
    "data['Industry Vertical'].unique()[150:200]"
   ]
  },
  {
   "cell_type": "markdown",
   "metadata": {
    "id": "G4l5EDbrMKMP"
   },
   "source": [
    "So first we need to remove these unicde for making some meaninful out of it. We can remove these using `regex` pattern from string, but before removing them we need to handle the null values."
   ]
  },
  {
   "cell_type": "code",
   "execution_count": null,
   "metadata": {
    "id": "N_zTdv3PMKMQ"
   },
   "outputs": [],
   "source": [
    "#checking how many null values are their in `Amount in USD(Funding)` attribute\n",
    "data[data['Amount in USD'].isnull()]"
   ]
  },
  {
   "cell_type": "markdown",
   "metadata": {
    "id": "zGkeWzCtMKMQ"
   },
   "source": [
    "Their are any null value in `Amount in USD` attribute , their are many null values in other attributes, so we need to fill them as well."
   ]
  },
  {
   "cell_type": "code",
   "execution_count": null,
   "metadata": {
    "id": "ofTwletNMKMQ"
   },
   "outputs": [],
   "source": [
    "#filling null value with \"others\" for attributes other than 'Amount in USD'.\n",
    "data[1:-2].fillna('others',inplace=True)"
   ]
  },
  {
   "cell_type": "code",
   "execution_count": null,
   "metadata": {
    "id": "s50mPSlYMKMQ"
   },
   "outputs": [],
   "source": [
    "data['Amount in USD'].unique()"
   ]
  },
  {
   "cell_type": "markdown",
   "metadata": {
    "id": "ypskiPE_MKMR"
   },
   "source": [
    "The `Amount in USD`(Funding) attribute has *undisclosed* and *unknown* value so we can remove them if they are less."
   ]
  },
  {
   "cell_type": "code",
   "execution_count": null,
   "metadata": {
    "id": "XKF1MF9dMKMR"
   },
   "outputs": [],
   "source": [
    "# checking how many values are presen with value undisclosed\n",
    "data[(data['Amount in USD']=='undisclosed')]"
   ]
  },
  {
   "cell_type": "code",
   "execution_count": null,
   "metadata": {
    "id": "aFEFUozDMKMR"
   },
   "outputs": [],
   "source": [
    "## checking how many values are presen with value unknown\n",
    "data[(data['Amount in USD']=='unknown')]"
   ]
  },
  {
   "cell_type": "code",
   "execution_count": null,
   "metadata": {
    "id": "01q5Dgb8MKMS"
   },
   "outputs": [],
   "source": [
    "data[(data['Amount in USD']=='Undisclosed')]"
   ]
  },
  {
   "cell_type": "markdown",
   "metadata": {
    "id": "-7QjF94iMKMS"
   },
   "source": [
    "The number of non numerical value for `Amount in USD` attribute are 7 , so we can remove them."
   ]
  },
  {
   "cell_type": "code",
   "execution_count": null,
   "metadata": {
    "id": "M_g2ehsIMKMS"
   },
   "outputs": [],
   "source": [
    "data[data['Amount in USD'].isnull()]"
   ]
  },
  {
   "cell_type": "markdown",
   "metadata": {
    "id": "Qt_o5eSIMKMT"
   },
   "source": [
    "Their are many null values in Funding attribute , i explore some of the sites to collect them like [crunchbase](https://www.crunchbase.com/) , but we have need the details regarding the investors , that how much a particular investor has fund in a particular startup , but the site does not contains it ,instead it contains the total funding a particular startup has , and the specific amount is not available on the other sites as well. Their are many ways to fill those values :\n",
    "* By filling them with 0\n",
    "* By filling them with avg <br>\n",
    "\n",
    "But those would not help much , because the number of missing values are 1/3 of the total dataset and we try the model to predict the funding amount it would not work properly because we would have a lot of variance in it.So , instead we need to drop it for better prediction of funding amount.\n"
   ]
  },
  {
   "cell_type": "code",
   "execution_count": null,
   "metadata": {
    "id": "EVfgP82XMKMT"
   },
   "outputs": [],
   "source": [
    "# drop rows with non numerical funding amount \n",
    "data.drop(data.loc[(data['Amount in USD']=='undisclosed') | (data['Amount in USD']=='Undisclosed') | (data['Amount in USD'].isnull()) | (data['Amount in USD']=='unknown')].index,inplace=True)"
   ]
  },
  {
   "cell_type": "code",
   "execution_count": null,
   "metadata": {
    "id": "j6ikq1hPMKMT"
   },
   "outputs": [],
   "source": [
    "data['Remarks'].fillna('None',inplace=True)"
   ]
  },
  {
   "cell_type": "code",
   "execution_count": null,
   "metadata": {
    "id": "3nAK9FdtMKMT"
   },
   "outputs": [],
   "source": [
    "#replacing unneccesary word with others\n",
    "data['Investors Name'].replace('undisclosed','others',inplace=True)"
   ]
  },
  {
   "cell_type": "code",
   "execution_count": null,
   "metadata": {
    "id": "V6_mI_BkMKMT"
   },
   "outputs": [],
   "source": [
    "data.shape"
   ]
  },
  {
   "cell_type": "code",
   "execution_count": null,
   "metadata": {
    "id": "HJ8ZagssMKMU"
   },
   "outputs": [],
   "source": [
    "#checking wheather we have processed all the null values\n",
    "data.isnull().sum()"
   ]
  },
  {
   "cell_type": "markdown",
   "metadata": {
    "id": "nPJZdCYOMKMU"
   },
   "source": [
    "We still remain with null values so remove them by droping null value from dataframe"
   ]
  },
  {
   "cell_type": "code",
   "execution_count": null,
   "metadata": {
    "id": "YfnRtSYOMKMU"
   },
   "outputs": [],
   "source": [
    "data.dropna(inplace=True)"
   ]
  },
  {
   "cell_type": "code",
   "execution_count": null,
   "metadata": {
    "id": "Ma_nVQsiMKMU"
   },
   "outputs": [],
   "source": [
    "data.shape"
   ]
  },
  {
   "cell_type": "markdown",
   "metadata": {
    "id": "zmSWsuB2MKMV"
   },
   "source": [
    "Now we can process those unicode symbol, here is the a example that how we regex to remove those symbols"
   ]
  },
  {
   "cell_type": "code",
   "execution_count": null,
   "metadata": {
    "id": "aa7xd3cbMKMV"
   },
   "outputs": [],
   "source": [
    "t=\"sequoia capital, rohit bansal, kunal bahl, sandeep tandon, kunal shah, zishaan hayath,\\\\\\ abhi\"\n",
    "t=re.sub(r\"\\\\+\",\"\",t)\n",
    "t"
   ]
  },
  {
   "cell_type": "markdown",
   "metadata": {
    "id": "mrPK3xW-MKMV"
   },
   "source": [
    "To know more about the regex one can follow over [here](https://regexr.com)"
   ]
  },
  {
   "cell_type": "code",
   "execution_count": null,
   "metadata": {
    "id": "ts9ib2--MKMV"
   },
   "outputs": [],
   "source": [
    "# defining func for the removing of unicodes from each cell of dataframe\n",
    "def unicode(x):\n",
    "    x=re.sub(r\"\\\\x..\",\"\",x)     ## removing unicode as it contains 2 char followed by '\\x'\n",
    "    x=re.sub(r\"\\\\\",\"\",x)     ## removing the backslashes\n",
    "    x=x.lower()                   ## lower the strings\n",
    "    # print(x)\n",
    "    return x.strip()"
   ]
  },
  {
   "cell_type": "code",
   "execution_count": null,
   "metadata": {
    "id": "n3aB_90wMKMV"
   },
   "outputs": [],
   "source": [
    "# process each cell of dataframe to remove unicode\n",
    "for col in data.columns[1:]:\n",
    "    data[col]=data[col].apply(unicode)"
   ]
  },
  {
   "cell_type": "code",
   "execution_count": null,
   "metadata": {
    "id": "cygA6YiTMKMW"
   },
   "outputs": [],
   "source": [
    "data"
   ]
  },
  {
   "cell_type": "markdown",
   "metadata": {
    "id": "XagAOPtlMKMW"
   },
   "source": [
    "Their are many char in `Amount in USD` like ',' ,  '+'  and 'n/a' , inorder to convert them to float datatype we need to remove these character."
   ]
  },
  {
   "cell_type": "code",
   "execution_count": null,
   "metadata": {
    "id": "D9jdhqIkMKMW"
   },
   "outputs": [],
   "source": [
    "# removing unnecessary char\n",
    "data[\"Amount in USD\"] = data[\"Amount in USD\"].apply(lambda x:(str(x).replace(\",\",\"\").replace(\"+\",\"\").replace(r'n/a',\"others\")))\n"
   ]
  },
  {
   "cell_type": "code",
   "execution_count": null,
   "metadata": {
    "id": "zT579KbIMKMW"
   },
   "outputs": [],
   "source": [
    "data=data[data['Amount in USD']!='others']\n",
    "data['Amount in USD']=pd.to_numeric(data['Amount in USD']) #converting funding attribute to numeric(float) type "
   ]
  },
  {
   "cell_type": "code",
   "execution_count": null,
   "metadata": {
    "id": "RqG4LtOdMKMW"
   },
   "outputs": [],
   "source": [
    "data['Date dd/mm/yyyy'].unique()"
   ]
  },
  {
   "cell_type": "markdown",
   "metadata": {
    "id": "ze_KvhoHMKMX"
   },
   "source": [
    "While converting the `Date` attribute from object to  datetime  i get some error regaring the char ,so i check the values we have in `Date` attribute. As we can see some of the dates do not have '/' some have '.' in it.<br>\n",
    "Ex:  05/072018  ,   22/01//2015"
   ]
  },
  {
   "cell_type": "code",
   "execution_count": null,
   "metadata": {
    "id": "FjoMzI8wMKMX"
   },
   "outputs": [],
   "source": [
    "#removing the '.' and replacing them with '/'\n",
    "data['Date dd/mm/yyyy']=data['Date dd/mm/yyyy'].apply(lambda x: x.replace(\".\",\"/\"))"
   ]
  },
  {
   "cell_type": "code",
   "execution_count": null,
   "metadata": {
    "id": "OUtVadszMKMX"
   },
   "outputs": [],
   "source": [
    "#converting some dates to their proper format\n",
    "data['Date dd/mm/yyyy'].replace('22/01//2015','22/01/2015',inplace=True)\n",
    "data['Date dd/mm/yyyy'].replace('01/07/015','01/07/2015',inplace=True)\n",
    "data['Date dd/mm/yyyy'].replace('05/072018','05/07/2018',inplace=True)"
   ]
  },
  {
   "cell_type": "markdown",
   "metadata": {
    "id": "ZSF2EE2_MKMX"
   },
   "source": [
    "### Data preprocessing"
   ]
  },
  {
   "cell_type": "code",
   "execution_count": null,
   "metadata": {
    "id": "fVfOXwGrMKMX"
   },
   "outputs": [],
   "source": [
    "# getting some feature like 'date','month' and 'year' from Date.\n",
    "data['year']=pd.to_datetime(data['Date dd/mm/yyyy'],format='%d/%m/%Y').dt.year\n",
    "data['month']=pd.to_datetime(data['Date dd/mm/yyyy'],format='%d/%m/%Y').dt.month\n",
    "data['day']=pd.to_datetime(data['Date dd/mm/yyyy'],format='%d/%m/%Y').dt.day"
   ]
  },
  {
   "cell_type": "code",
   "execution_count": null,
   "metadata": {
    "id": "CmZzhvEVMKMX"
   },
   "outputs": [],
   "source": [
    "data[\"yearmonth\"] = (pd.to_datetime(data['Date dd/mm/yyyy'],format='%d/%m/%Y').dt.year*100)+(pd.to_datetime(data['Date dd/mm/yyyy'],format='%d/%m/%Y').dt.month)"
   ]
  },
  {
   "cell_type": "code",
   "execution_count": null,
   "metadata": {
    "id": "k5Fek9LEMKMX"
   },
   "outputs": [],
   "source": [
    "# checking what kind of value does the 'City Location' have\n",
    "data['City  Location'].unique()"
   ]
  },
  {
   "cell_type": "markdown",
   "metadata": {
    "id": "lHsFLNnBMKMY"
   },
   "source": [
    "Their are many cities which has 2 places mentioned , we can took one of them for making for visualizing as almost all of them contains city on left side of backslash and country on right side , so we go with cities as other locations are also the name of some cities and this is the same case for `InvestmentnType`.<br>\n",
    "Ex: Seed/ Angel Funding, here the angel and seed Funding are same type of funding , more details can be found [here](https://www.investopedia.com/terms/a/angelinvestor.asp).\n",
    "So we can remove the term seed from it.\n"
   ]
  },
  {
   "cell_type": "code",
   "execution_count": null,
   "metadata": {
    "id": "773leGd0MKMY"
   },
   "outputs": [],
   "source": [
    "# getting angel type of funding \n",
    "data['InvestmentnType']=data['InvestmentnType'].apply(lambda x: x.split(\"/\")[-1])"
   ]
  },
  {
   "cell_type": "code",
   "execution_count": null,
   "metadata": {
    "id": "qa6WU0T5MKMY"
   },
   "outputs": [],
   "source": [
    "# getting the city name where we have 2 names available\n",
    "data['City  Location']=data['City  Location'].apply(lambda x: x.split(\"/\")[0].strip())"
   ]
  },
  {
   "cell_type": "markdown",
   "metadata": {
    "id": "p0cHg0nMMKMY"
   },
   "source": [
    "from above we can also see that some of the cities like gurgaon and gurugram points to same locations, so we can map it to same kind of name."
   ]
  },
  {
   "cell_type": "code",
   "execution_count": null,
   "metadata": {
    "id": "-DTK-nScMKMY"
   },
   "outputs": [],
   "source": [
    "## function to change those common city names\n",
    "def map(x):\n",
    "    if x=='gurugram':\n",
    "        return 'gurgaon'\n",
    "    elif x=='bengaluru':\n",
    "        return 'bangalore'\n",
    "    else:\n",
    "        return x\n",
    "data['City  Location']=data['City  Location'].apply(map)"
   ]
  },
  {
   "cell_type": "code",
   "execution_count": null,
   "metadata": {
    "id": "qVvEwJS9MKMZ"
   },
   "outputs": [],
   "source": [
    "data"
   ]
  },
  {
   "cell_type": "markdown",
   "metadata": {
    "id": "MU5vwgG4MKMZ"
   },
   "source": [
    "### Visualization\n",
    "To answer our first question that **what are top 50 funded startup?** we visualise them by barplot"
   ]
  },
  {
   "cell_type": "code",
   "execution_count": null,
   "metadata": {
    "id": "4UXYcp1dMKMZ"
   },
   "outputs": [],
   "source": [
    "## creating new list to having startups with their total funding\n",
    "topfiftystart=[]\n",
    "for startup in data['Startup Name'].unique():\n",
    "    df=data[data['Startup Name']==startup]    ## get the dataframe for each startup\n",
    "    sum=np.sum(df['Amount in USD'])         ## sum total funding of startup\n",
    "    topfiftystart.append([startup,sum])\n",
    "\n",
    "startup=pd.DataFrame(topfiftystart,columns=['startup','Revenue'])  #converting the list to dataframe and sort them by the fundin amount\n",
    "startup.sort_values(by='Revenue',ascending=False,inplace=True)"
   ]
  },
  {
   "cell_type": "code",
   "execution_count": null,
   "metadata": {
    "id": "LAab73oJMKMZ"
   },
   "outputs": [],
   "source": [
    "startup"
   ]
  },
  {
   "cell_type": "code",
   "execution_count": null,
   "metadata": {
    "id": "wrZeREgNMKMZ"
   },
   "outputs": [],
   "source": [
    "data.shape"
   ]
  },
  {
   "cell_type": "code",
   "execution_count": null,
   "metadata": {
    "id": "R1i1-hszMKMa"
   },
   "outputs": [],
   "source": [
    "## diving amount by 1M to show data in term of Millions\n",
    "startup['Revenue']/=1000000\n",
    "startup=startup[:51]"
   ]
  },
  {
   "cell_type": "code",
   "execution_count": null,
   "metadata": {
    "id": "VYPHLuVeMKMa"
   },
   "outputs": [],
   "source": [
    "## visualising the amount spend on the top 50 startups\n",
    "plt.figure(figsize=(20,50))\n",
    "ax = sns.barplot(x=\"Revenue\", y=\"startup\",data=startup, palette=\"husl\",linewidth = 2,label='big')\n",
    "for i,j in enumerate(startup[\"Revenue\"]):\n",
    "    ax.text(10, i, j, weight=\"bold\", color = 'black', fontsize =15,ha='left')\n",
    "plt.title(\"50 most revenue  startups \",fontsize=20)\n",
    "ax.set_xlabel(xlabel = 'Amount(in Millions)', fontsize = 20)\n",
    "ax.set_ylabel(ylabel = 'Startup company', fontsize = 30)\n",
    "plt.show()\n",
    "del startup"
   ]
  },
  {
   "cell_type": "markdown",
   "metadata": {
    "id": "-M7CoguoMKMa"
   },
   "source": [
    "We can see the top 50 highest funded startups and Flipkart is one of the biggest startup with the highest funded amount.\n",
    "\n",
    "Now will see who are the biggest investors in the market."
   ]
  },
  {
   "cell_type": "code",
   "execution_count": null,
   "metadata": {
    "id": "eyq0i7B2MKMa"
   },
   "outputs": [],
   "source": [
    "company=data.copy()"
   ]
  },
  {
   "cell_type": "code",
   "execution_count": null,
   "metadata": {
    "id": "qdrzaJEcMKMa"
   },
   "outputs": [],
   "source": [
    "company.sort_values(by='Amount in USD',ascending=False,inplace=True) ## sort the investor according to their fundings"
   ]
  },
  {
   "cell_type": "code",
   "execution_count": null,
   "metadata": {
    "id": "XKRoojPhMKMa"
   },
   "outputs": [],
   "source": [
    "company['Amount in USD']/=1000000\n",
    "company=company[company['Investors Name']!='others']\n",
    "company=company[:10]"
   ]
  },
  {
   "cell_type": "code",
   "execution_count": null,
   "metadata": {
    "id": "iT55lKDbMKMb"
   },
   "outputs": [],
   "source": [
    "# visualizing the biggest investors\n",
    "plt.figure(figsize=(15,10))\n",
    "ax = sns.barplot(x=\"Amount in USD\", y=\"Investors Name\",data=company, palette=\"husl\",linewidth = 2,label='big')\n",
    "for i,j in enumerate(company[\"Amount in USD\"]):\n",
    "    ax.text(10, i, j, weight=\"bold\", color = 'black', fontsize =15,ha='left')\n",
    "plt.title(\"10 bigest investor \",fontsize=20)\n",
    "ax.set_xlabel(xlabel = 'Amount(in Millions)', fontsize = 20)\n",
    "ax.set_ylabel(ylabel = 'Investors Name', fontsize = 30)\n",
    "plt.show()\n",
    "del company"
   ]
  },
  {
   "cell_type": "markdown",
   "metadata": {
    "id": "O0S0OnRAMKMb"
   },
   "source": [
    "We can see the biggest investor for the startups and the biggest investors are `Westbridge capital` and `softbank`.\n"
   ]
  },
  {
   "cell_type": "code",
   "execution_count": null,
   "metadata": {
    "id": "7RP2SediMKMb"
   },
   "outputs": [],
   "source": [
    "## visualizing the most valued industries prefered for funding \n",
    "industry = data['Industry Vertical'].value_counts().head(10)\n",
    "plt.figure(figsize=(15,8))\n",
    "sns.barplot(industry.index, industry.values, alpha=0.9, palette=\"husl\")\n",
    "plt.xticks(rotation=45)\n",
    "plt.xlabel('Industry of startups', fontsize=12)\n",
    "plt.ylabel('freq of industries for the startup', fontsize=12)\n",
    "plt.title(\"Most valued industries for funding\", fontsize=16)\n",
    "plt.show()"
   ]
  },
  {
   "cell_type": "markdown",
   "metadata": {
    "id": "kiJUrP_hMKMb"
   },
   "source": [
    "Now we look wo are the most frequent investors in the market. If we see in the investors name then we can observe that their are some name like undisclosed, undisclosed investos , which represents nothing so we can put them under the category of 'others'."
   ]
  },
  {
   "cell_type": "code",
   "execution_count": null,
   "metadata": {
    "id": "38vbbA0yMKMb"
   },
   "outputs": [],
   "source": [
    "## investor func to name undisclosed investors to others\n",
    "def investor(x):\n",
    "    x=x.strip()\n",
    "    if x=='undisclosed' or x=='undisclosed investors' or x=='undisclosed investor':\n",
    "        return 'others'\n",
    "    else:\n",
    "        return x\n",
    "data[\"Investors Name\"]=data[\"Investors Name\"].apply(investor)"
   ]
  },
  {
   "cell_type": "code",
   "execution_count": null,
   "metadata": {
    "id": "2B2bCw9sMKMb"
   },
   "outputs": [],
   "source": [
    "# getting the names of investors\n",
    "names = data[data['Investors Name']!='others'][\"Investors Name\"]"
   ]
  },
  {
   "cell_type": "code",
   "execution_count": null,
   "metadata": {
    "id": "Zc1OriMjMKMc"
   },
   "outputs": [],
   "source": [
    "# creating the wordcloud to observe the most frequent investor\n",
    "wordcloud = WordCloud(max_font_size=50, width=600, height=300, background_color='cyan').generate(' '.join(names))\n",
    "plt.figure(figsize=(15,8))\n",
    "plt.imshow(wordcloud)\n",
    "plt.title(\"Frequent investors\", fontsize=35)\n",
    "plt.axis(\"off\")\n",
    "plt.show()"
   ]
  },
  {
   "cell_type": "markdown",
   "metadata": {
    "id": "AVPyea2HMKMc"
   },
   "source": [
    "From above we can see the investors who has invested more than one startups are :\n",
    "* venture partner\n",
    "* sequoia capital\n",
    "* accesl partner"
   ]
  },
  {
   "cell_type": "code",
   "execution_count": null,
   "metadata": {
    "id": "RNqxKtfQMKMc"
   },
   "outputs": [],
   "source": [
    "#in which sector there are most startups\n",
    "d=data[data['Industry Vertical']!='others']['Industry Vertical'].value_counts().head(6)\n",
    "explode = (0.1, 0, 0, 0,0,0)\n",
    "fig1,ax1=plt.subplots(figsize=(20,10))\n",
    "\n",
    "ax1.pie(d.values,explode=explode, labels=d.index,autopct='%1.1f%%', shadow=True, startangle=140)\n",
    "ax1.axis('equal')\n",
    "plt.title(\"Famous industries of startup\",fontsize=30)\n",
    "plt.show()"
   ]
  },
  {
   "cell_type": "markdown",
   "metadata": {
    "id": "S2VgAtQ9MKMc"
   },
   "source": [
    "The most of the startups are based on:\n",
    "* Consumer internet\n",
    "* Technology\n",
    "* e-commerce industries\n",
    "\n",
    "Now we also look at what are the most preferred locations for the startups."
   ]
  },
  {
   "cell_type": "code",
   "execution_count": null,
   "metadata": {
    "id": "3GDZ89edMKMc"
   },
   "outputs": [],
   "source": [
    "# plot the locations according to the funding given to the starups\n",
    "plt.figure(figsize=(17,12))\n",
    "mean_amount = data.groupby('City  Location').sum()[\"Amount in USD\"].sort_values(ascending=False).head(15)\n",
    "squarify.plot(sizes=mean_amount.values,label=mean_amount.index, value=mean_amount.values)\n",
    "plt.title('Distribution of Startups across Top cities')"
   ]
  },
  {
   "cell_type": "markdown",
   "metadata": {
    "id": "XkENWHJ1MKMd"
   },
   "source": [
    "Banglore is  the most preffered industry for the startups , that's why we can also say that Banglore is the IT hub,  the location also matters so one should also think about the location in terms of funding and kind of industry statups are working on.\n",
    "\n",
    "**Now we have answer to all the question we have mentioned at the starting**."
   ]
  },
  {
   "cell_type": "code",
   "execution_count": null,
   "metadata": {
    "id": "ac4thUuKMKMd"
   },
   "outputs": [],
   "source": [
    "corr = data.corr()\n",
    "ax = sns.heatmap(\n",
    "    corr, \n",
    "    vmin=-1, vmax=1, center=0,\n",
    "    cmap=sns.diverging_palette(20, 220, n=200),\n",
    "    square=True\n",
    ")"
   ]
  },
  {
   "cell_type": "markdown",
   "metadata": {
    "id": "rXqCweT7MKMd"
   },
   "source": [
    "from above we can see that `Amount in USD` has less correlation with other attributes , so we need to find some more features for training."
   ]
  },
  {
   "cell_type": "markdown",
   "metadata": {
    "id": "_iVgGJ6SMKMd"
   },
   "source": [
    "### Feature engineering"
   ]
  },
  {
   "cell_type": "code",
   "execution_count": null,
   "metadata": {
    "id": "IMAMgzwfMKMd"
   },
   "outputs": [],
   "source": [
    "data['Investors Name'].unique()"
   ]
  },
  {
   "cell_type": "markdown",
   "metadata": {
    "id": "npzt9ss2MKMd"
   },
   "source": [
    "If we look at the names of investors then we can find that their are more than one investor for some of the startups and they are separated by ',' , so we can create a list of those names as to extract unique names form it."
   ]
  },
  {
   "cell_type": "code",
   "execution_count": null,
   "metadata": {
    "id": "TwKR0J4dMKMe"
   },
   "outputs": [],
   "source": [
    "data.columns"
   ]
  },
  {
   "cell_type": "markdown",
   "metadata": {
    "id": "6VPlUGRUMKMe"
   },
   "source": [
    "To predict the Funding amount ,we need to have the features with numerical value because the system only understands the numbers.\n",
    "\n",
    "So we have the attribute `City  Location` having the name of location for each startups. So we need to convert it to numerical value. If we look at the investors name then each of the startup have more than one investor, but need to focus more on the revenue and location. So , we will need to aggregate all the revenue for each startup and each need to list all the location for it.\n",
    "Ex:\n",
    "\n",
    "|Startup|Location|revenue|\n",
    "|---|---|---|\n",
    "|byju's|banglore|2000|\n",
    "|mamearth|gurgram|3500|\n",
    "|pandos|chennai|4000|\n",
    "|byju's|gurugram|3000|\n",
    "|mamearth|gurgram|2500|\n",
    "|...|...|...|\n",
    "\n",
    "\n",
    "then after aggregating the total revenue and list all the location we would left with:\n",
    "\n",
    "\n",
    "|Startup|Location|revenue|\n",
    "|---|---|---|\n",
    "|byju's|\\[banglore,gurugram\\]|5000|\n",
    "|mamearth|gurgram|6000|\n",
    "|pandos|chennai|4000|\n",
    "|...|...|...|\n",
    "\n",
    "Then we can convert the list of location to [one hot enconding](https://scikit-learn.org/stable/modules/generated/sklearn.preprocessing.OneHotEncoder.html) to convert them to numerical value.\n"
   ]
  },
  {
   "cell_type": "code",
   "execution_count": null,
   "metadata": {
    "id": "mL7n7UQnMKMe"
   },
   "outputs": [],
   "source": [
    "### aggregate the revenue as per the startup name \n",
    "## get the list of all locations \n",
    "for i,row in data.iterrows():\n",
    "    data.at[i,'Location']=list(set(data[data['Startup Name']==row['Startup Name']]['City  Location'].values))\n",
    "    data.at[i,'Revenue']=float(np.sum(data[data['Startup Name']==row['Startup Name']]['Amount in USD'].values))\n",
    "    # print(row['Startup Name'])"
   ]
  },
  {
   "cell_type": "code",
   "execution_count": null,
   "metadata": {
    "id": "MaybLsYKMKMe"
   },
   "outputs": [],
   "source": [
    "## remove the duplicate startups rows\n",
    "data.drop_duplicates(subset='Startup Name',keep=False,ignore_index=True,inplace=True)"
   ]
  },
  {
   "cell_type": "code",
   "execution_count": null,
   "metadata": {
    "id": "Z1FH1G5lMKMe"
   },
   "outputs": [],
   "source": [
    "from sklearn.preprocessing import MultiLabelBinarizer\n",
    "mlb = MultiLabelBinarizer()"
   ]
  },
  {
   "cell_type": "code",
   "execution_count": null,
   "metadata": {
    "id": "teRkfiOoMKMf"
   },
   "outputs": [],
   "source": [
    "##convert location to the one-hot  encoding\n",
    "res = pd.DataFrame(mlb.fit_transform(data['Location']),columns=mlb.classes_,index=data['Location'].index)"
   ]
  },
  {
   "cell_type": "code",
   "execution_count": null,
   "metadata": {
    "id": "KgXlstcUMKMf"
   },
   "outputs": [],
   "source": [
    "res"
   ]
  },
  {
   "cell_type": "code",
   "execution_count": null,
   "metadata": {
    "id": "T38ObBENMKMf"
   },
   "outputs": [],
   "source": [
    "data=pd.concat([data,res],axis=1)  ## concatinating both the dataframe"
   ]
  },
  {
   "cell_type": "code",
   "execution_count": null,
   "metadata": {
    "id": "HEyKWDVIMKMf"
   },
   "outputs": [],
   "source": [
    "data"
   ]
  },
  {
   "cell_type": "code",
   "execution_count": null,
   "metadata": {
    "id": "NoktZHUGMKMf"
   },
   "outputs": [],
   "source": [
    "# ## splitting the names of invstors separated by ','\n",
    "# data['investors']=data['Investors Name'].apply(lambda x: set(x.split(',')))"
   ]
  },
  {
   "cell_type": "code",
   "execution_count": null,
   "metadata": {
    "id": "7vzsMM7UMKMf"
   },
   "outputs": [],
   "source": [
    "# ## creating vocab for the unique names of investors\n",
    "# investor=[]\n",
    "# for each in data['investors']:\n",
    "#     for i in each:\n",
    "#         if i!=\"\":\n",
    "#             investor.append(i.strip())\n",
    "\n",
    "# investor=list(set(investor))\n",
    "# print(investor[:10])  "
   ]
  },
  {
   "cell_type": "code",
   "execution_count": null,
   "metadata": {
    "id": "CQfE7iOUMKMg"
   },
   "outputs": [],
   "source": [
    "# # creating ranks for the names of investors vocab \n",
    "# investors={}\n",
    "# i=1\n",
    "# for inv in investor:a\n",
    "#     investors[inv]=i\n",
    "#     i+=1\n"
   ]
  },
  {
   "cell_type": "code",
   "execution_count": null,
   "metadata": {
    "id": "OHZvy7PqMKMg"
   },
   "outputs": [],
   "source": [
    "# ## creating func val for mapping the sum of rank of investors name\n",
    "# def val(x):\n",
    "#     v=0\n",
    "#     for i in x:\n",
    "#         if i:\n",
    "#             v+=investors[i.strip()]\n",
    "#     return v"
   ]
  },
  {
   "cell_type": "code",
   "execution_count": null,
   "metadata": {
    "id": "NGEKmTJCMKMg"
   },
   "outputs": [],
   "source": [
    "# ## applying func to map the names as the sum of rank of investors name\n",
    "# data['investor val']=data['investors'].apply(val)"
   ]
  },
  {
   "cell_type": "markdown",
   "metadata": {
    "id": "TrlCb3IUMKMg"
   },
   "source": [
    "We need to now map the `Subvertical` to numerical value.\n",
    "As it contains small discription of the Industry ,so we need to extract some important terms which has more value in a sentence.<br>\n",
    "Ex: Online Marketplace For Mother and Babycare Products<br>\n",
    "Here can see the word babycare , Marketplace and mother has more weightage than other words. One of the example is `google search engine`.<br>\n",
    "To find this weightage of term we are using TF*IDF algo.<br>\n",
    "1. TF(term frequencey)(t,d)=count of word t in the document(d)/number of words in d <br>\n",
    "2. IDF(inverse document frequencey)= $\\log (\\frac{N}{df+1})$<br>\n",
    "where N=occurence of term t in document set N <br>\n",
    "df=occurences of term t in document set N.\n",
    "\n",
    "TF-IDF=TF(t,d) x $\\log (\\frac{N}{df+1})$<br>\n",
    "For more details click [here](https://towardsdatascience.com/tf-idf-for-document-ranking-from-scratch-in-python-on-real-world-dataset-796d339a4089)\n",
    "\n",
    "I am using Sklearn for creating TF-IDF vectors."
   ]
  },
  {
   "cell_type": "code",
   "execution_count": null,
   "metadata": {
    "id": "0lhmqP7FMKMg"
   },
   "outputs": [],
   "source": [
    "from sklearn.feature_extraction.text import TfidfVectorizer"
   ]
  },
  {
   "cell_type": "code",
   "execution_count": null,
   "metadata": {
    "id": "Hf_JgqRyMKMg"
   },
   "outputs": [],
   "source": [
    "data.columns"
   ]
  },
  {
   "cell_type": "code",
   "execution_count": null,
   "metadata": {
    "id": "U8CH-YN6MKMh"
   },
   "outputs": [],
   "source": [
    "v = TfidfVectorizer(stop_words='english',analyzer='word',max_features=500) ## vector should create vector for 800 most weightage words\n",
    "x = v.fit_transform(data['SubVertical'])"
   ]
  },
  {
   "cell_type": "code",
   "execution_count": null,
   "metadata": {
    "id": "p8d6mtk0MKMh"
   },
   "outputs": [],
   "source": [
    "data.reset_index(drop=True,inplace=True) "
   ]
  },
  {
   "cell_type": "code",
   "execution_count": null,
   "metadata": {
    "id": "QuyfukkZMKMh"
   },
   "outputs": [],
   "source": [
    "t=x.toarray()   # converting vector list to array"
   ]
  },
  {
   "cell_type": "code",
   "execution_count": null,
   "metadata": {
    "id": "yquorUlvMKMh"
   },
   "outputs": [],
   "source": [
    "dt=pd.DataFrame(t)"
   ]
  },
  {
   "cell_type": "code",
   "execution_count": null,
   "metadata": {
    "id": "CJ8IMiJRMKMh"
   },
   "outputs": [],
   "source": [
    "dt"
   ]
  },
  {
   "cell_type": "code",
   "execution_count": null,
   "metadata": {
    "id": "7H56I6RPMKMi"
   },
   "outputs": [],
   "source": [
    "df=pd.concat([data,dt],axis=1)   ## concatenating the tf-idf vectors with prevoius dataframe"
   ]
  },
  {
   "cell_type": "markdown",
   "metadata": {
    "id": "ElbMcAjWMKMi"
   },
   "source": [
    "We got remain with attributes : `Startup Name` ,`Industry Vertical`, `City  Location` and `InvestmentnType`. We can map the values to number like we have done with ranks dict created above for the investors name. <br>\n",
    "I am using `LabelEncoder` for this."
   ]
  },
  {
   "cell_type": "code",
   "execution_count": null,
   "metadata": {
    "id": "IpaZbMDEMKMi"
   },
   "outputs": [],
   "source": [
    "from sklearn import preprocessing"
   ]
  },
  {
   "cell_type": "code",
   "execution_count": null,
   "metadata": {
    "id": "27m-KM95MKMi"
   },
   "outputs": [],
   "source": [
    "le = preprocessing.LabelEncoder()"
   ]
  },
  {
   "cell_type": "code",
   "execution_count": null,
   "metadata": {
    "id": "mCmSUtXGMKMi"
   },
   "outputs": [],
   "source": [
    "df['Startup Name']=le.fit_transform(df['Startup Name'])\n",
    "df['Industry Vertical']=le.fit_transform(df['Industry Vertical'])\n",
    "df['InvestmentnType']=le.fit_transform(df['InvestmentnType'])\n"
   ]
  },
  {
   "cell_type": "code",
   "execution_count": null,
   "metadata": {
    "id": "fjOAFammMKMj"
   },
   "outputs": [],
   "source": [
    "## drop the non-featured attributes\n",
    "df.drop(labels=['Date dd/mm/yyyy','Industry Vertical','SubVertical','Investors Name','yearmonth','Remarks','Amount in USD','Location','City  Location'],inplace=True,axis=1)"
   ]
  },
  {
   "cell_type": "code",
   "execution_count": null,
   "metadata": {
    "id": "jQWWoTCJMKMj"
   },
   "outputs": [],
   "source": [
    "df"
   ]
  },
  {
   "cell_type": "code",
   "execution_count": null,
   "metadata": {
    "id": "-7KHbOJ8MKMj"
   },
   "outputs": [],
   "source": [
    "df['Revenue']/=1000000"
   ]
  },
  {
   "cell_type": "markdown",
   "metadata": {
    "id": "KYd26dRFMKMj"
   },
   "source": [
    "\n",
    "## Training model\n",
    "\n",
    "As we need to predict the `Amount in USD` which is continuous value ,we can predict them with regression. Consider this Image:\n",
    "\n",
    "<img src=\"./img/linear.png\" width=\"500\" height='400'>\n",
    "\n",
    "The line fitting those datapoints has the equation , J(y_pred)= $\\theta * X +b$<br>\n",
    "J is also known as loss function<br>\n",
    "b = intercept<br>\n",
    "X= feature from the datapoints<br>\n",
    "$\\theta$= slope of the line\n",
    "\n",
    "We can see that the line does not fit all the datapoints , and we can their is some error between each points and the line . We can find the total error by sum of square of those error i.e. $S=(y\\_given^{i}-J^{i})^2$ <br>\n",
    "and we use the square term because some of points above the line might have positive error and some of the points below the line has negaive error and we sum them we might get the actual error or the total error get decreased.<br>\n",
    "Now the goal is that we use S to update the theta such that Sum of square error could be minized: <br>\n",
    "$\\theta= \\theta - LR* \\frac{dS}{d\\theta}$<br>\n",
    "$b=b-LR* \\frac{dS}{db}$<br>\n",
    "LR is learning rate at which the update the weights , one can visualise them as the  we do the [gradient descent](https://blog.clairvoyantsoft.com/the-ascent-of-gradient-descent-23356390836f) to find the global optimal. \n",
    "\n",
    "Some of these line get overfit the datasets i.e. high variance, one can also understand it like the Training model get well trained over the given dataset but might not perform well for new coming datapoints. So we address this problem using **Rigde regression**.\n",
    "\n",
    "### Rigde regression (L2 regularization)\n",
    "Consider the Image:\n",
    "\n",
    "<img src=\"./img/ridge.png\" width=\"500\" height='400'>\n",
    "\n",
    "\n",
    "Consider those red datapoints as the poitns from the training set , and the red line fit perfectly to those points but if try to predict new points(green points) then we get high variance from the red line. So we try to reduce this variance by introducing some bias to the sum of square error and get the new line which is represented by blue colour by reducing some variance.This provides a better long term prediction params. <br>\n",
    "This introducing of some bias is also known as penalty(regularization term), <br>represented as =\n",
    "$\\lambda * {\\theta}^2$<br>\n",
    "$\\theta$=penalty to loss function<br>\n",
    "$\\lambda$ represents how severe the penalty is\n",
    "\n",
    "So the now our new loss function would become:<br>\n",
    "$J= (y\\_given-(\\theta * X +b))^2+\\lambda * {\\theta}^2 $\n",
    "\n",
    "<img src=\"./img/alpha.png\" width=\"500\" height='400'>\n",
    "\n",
    "lambda is represented as alpha in the image.\n",
    "\n",
    "As increase the lambda the slope of the regression line reduces and becomes more horizontal and the model becomes less sensitive to variation of the independent variable X , thus slope of the line is reduced and a small change in the X would have less impact in the change of Y and we can avoid the overfitting of the model.\n",
    "\n",
    "Now the question arises how do chose the value of lambda?<br>\n",
    "Ans:For this we will use k-fold cross validation.\n",
    "\n",
    "### K-fold cross validation\n",
    "\n",
    "Condider the dataset:\n",
    "\n",
    "|sr.|X|Y|\n",
    "|---|---|---|\n",
    "|1|101|2|\n",
    "|2|120|3|\n",
    "|3|135|3|\n",
    "|...|...|...|\n",
    "|...|...|...|\n",
    "|1000|256|8|\n",
    "\n",
    "Lets say we divid the dataset into 5 parts i.e. k=5, so get the partion as:<br>\n",
    "1st set have datapoints from \\[1,2...200\\]<br>\n",
    "2nd set have datapoints from \\[201,202...400\\]<br>\n",
    "3rd set have datapoints from \\[401,402...600\\]<br> \n",
    "4th set have datapoints from \\[601,602...800\\]<br>\n",
    "5th set have datapoints from \\[801,802...1000\\]\n",
    "\n",
    "Now make set 1-4 as train set and 5 as the test set and do this 4 more time for other sets as well, finally we would train our model over all the combination of test and train set and we get error from each of the combination say: E1,E2,E3,E4 and E5. We aggregate those results can conclude the final value of lambda which has the less error value in k-fold cross validation.\n",
    "\n",
    "I am using sklearn for ridge regression"
   ]
  },
  {
   "cell_type": "code",
   "execution_count": null,
   "metadata": {
    "id": "hMShRwBSMKMj"
   },
   "outputs": [],
   "source": [
    "## importing the libraries\n",
    "from sklearn.linear_model import Ridge\n",
    "from sklearn.metrics import r2_score\n",
    "from sklearn.model_selection import train_test_split\n",
    "from sklearn.metrics import mean_squared_error\n",
    "from math import sqrt\n",
    "from sklearn.model_selection import cross_val_score\n",
    "from sklearn.model_selection import RepeatedKFold\n",
    "from numpy import mean\n",
    "from numpy import std\n",
    "from numpy import absolute\n",
    "import pickle"
   ]
  },
  {
   "cell_type": "code",
   "execution_count": null,
   "metadata": {
    "id": "ZRUJwYIWMKMk"
   },
   "outputs": [],
   "source": [
    "model= Ridge(normalize=True,alpha=0.1) ## normalize the value for faster convergence while gradient descent\n",
    "cv = RepeatedKFold(n_splits=20, n_repeats=3, random_state=32)   # k-fold cross validation with k=20\n",
    "scores = cross_val_score(model,df.loc[:, df.columns != 'Revenue'],df['Revenue'], scoring='neg_median_absolute_error', cv=cv, n_jobs=-1)\n",
    "# force scores to be positive\n",
    "scores = absolute(scores)\n",
    "print('Mean MAE: %.3f (%.3f)' % (mean(scores), std(scores)))"
   ]
  },
  {
   "cell_type": "code",
   "execution_count": null,
   "metadata": {
    "id": "8TIos19fMKMk"
   },
   "outputs": [],
   "source": [
    "pickle.dump(model,open('ridge_reg.pkl','wb'))"
   ]
  },
  {
   "cell_type": "markdown",
   "metadata": {
    "id": "pmWyvzLRMKMk"
   },
   "source": [
    "We get the overall mean absolute error of 16.897 from our model."
   ]
  },
  {
   "cell_type": "markdown",
   "metadata": {
    "id": "Dzml9q05MKMk"
   },
   "source": [
    "\n",
    "Their are many features available after converting the text data to numerical value, their might be some features which are less useful while training the model ,so we can neglect of those features by introducing Lasso Regression.\n",
    "\n",
    "### Lasso Regression(L1 Regression)\n",
    "It is same as the Ridge Regression except the difference is that it uses norm instead of square for penalty term i.e:<br>\n",
    "$\\lambda * {|\\theta|}$<br>\n",
    "So our final function would be :\n",
    "$J= (y\\_given-(\\theta * X +b))^2+\\lambda * {|\\theta|} $\n",
    "\n",
    "How it affect the features?<br>\n",
    "Consider The training model : <br>\n",
    "<img src=\"./img/data.png\">\n",
    "\n",
    "When we train the model the using Ridge Regression ,it has the term ${\\theta}^2$ as the penalty , and if see from above image we have many features in it. Some of the feature like `Location`,`startup name` might have value for our training model but some features like `489`,`402` ,`Sr.no.` etc. might not have much value/effect for our training model , so as we increase the lambda value the penalty for the Ridge Regression goes Asymptotically to 0 ,and those features remain in out training set with some less impact on the sum of squares error but the **Lasso Regression** has the norm term as penalty and as we increase the lambda then those less important features goes straight forward to 0 and those features has no effect for the trainig model and we obtain the model with less sum of squares of error than the Ridge Regression . Thus Lasso Regression perform better than Ridge Regression by remove the effect of some non useful features for the training model."
   ]
  },
  {
   "cell_type": "code",
   "execution_count": null,
   "metadata": {
    "id": "Y7m3IFIWMKMk"
   },
   "outputs": [],
   "source": [
    "#importing lib for lasso regression\n",
    "from sklearn import linear_model"
   ]
  },
  {
   "cell_type": "code",
   "execution_count": null,
   "metadata": {
    "id": "0pZZQ_HjMKMk"
   },
   "outputs": [],
   "source": [
    " clf = linear_model.Lasso(alpha=0.1,normalize=True)\n",
    " cv = RepeatedKFold(n_splits=20, n_repeats=3, random_state=32)\n",
    "scores = cross_val_score(clf,df.loc[:, df.columns != 'Revenue'],df['Revenue'], scoring='neg_median_absolute_error', cv=cv, n_jobs=-1)\n",
    "# force scores to be positive\n",
    "scores = absolute(scores)\n",
    "print('Mean MAE: %.3f (%.3f)' % (mean(scores), std(scores)))"
   ]
  },
  {
   "cell_type": "markdown",
   "metadata": {
    "id": "Sh6OmLiYMKMl"
   },
   "source": [
    "From above we can see that the overall Mean absolute error by Lasso Regression is less than the Ridge Regression."
   ]
  },
  {
   "cell_type": "code",
   "execution_count": null,
   "metadata": {
    "id": "WvCN9RjEMKMl"
   },
   "outputs": [],
   "source": [
    "pickle.dump(clf,open('lasso_reg.pkl','wb'))"
   ]
  },
  {
   "cell_type": "markdown",
   "metadata": {
    "id": "hWrJqUkoMKMl"
   },
   "source": [
    "Conclusion:\n",
    "* The most funded revenue startups are `Flipkart` and `Rapido ride taxi`\n",
    "* The highest funded investores are `Westbridge capital` and `softbank`.\n",
    "* The industry most preferred by investors for funding the startup are `Consumer internet` and `Technology`. The new startups should focus on these field for better funding and growth.\n",
    "* And the most preffered location for the startups is Banglore ."
   ]
  }
 ],
 "metadata": {
  "colab": {
   "name": "topfiftystartup-checkpoint.ipynb",
   "provenance": []
  },
  "kernelspec": {
   "display_name": "Python 3",
   "language": "python",
   "name": "python3"
  },
  "language_info": {
   "codemirror_mode": {
    "name": "ipython",
    "version": 3
   },
   "file_extension": ".py",
   "mimetype": "text/x-python",
   "name": "python",
   "nbconvert_exporter": "python",
   "pygments_lexer": "ipython3",
   "version": "3.6.4"
  }
 },
 "nbformat": 4,
 "nbformat_minor": 1
}
